{
 "cells": [
  {
   "cell_type": "code",
   "execution_count": 14,
   "id": "1075c6d4",
   "metadata": {
    "scrolled": true
   },
   "outputs": [
    {
     "name": "stdout",
     "output_type": "stream",
     "text": [
      "Welcome to my computer Quiz\n",
      "Do you want to play? (Type Yes to play) yes\n",
      "Okay! Let's play :) \n",
      "Which is the highest peak in India? jdkfa\n",
      "Incorrect!\n",
      " Which is the World’s longest River? kjfka\n",
      "Incorrect!\n",
      "Which is the continent with the most number of countries? africa\n",
      "Correct! \n",
      "Which is the first element on the periodic table of elements? hydrogen\n",
      "Correct! \n",
      "Which is the national fruit of India? mango\n",
      "Correct! \n",
      "Which is the nearest star to the earth?  suka\n",
      "Incorrect!\n",
      "You got 3 questions correct! \n",
      "You got 50.0%.\n",
      "😐\n"
     ]
    }
   ],
   "source": [
    "print(\"Welcome to my computer Quiz\")\n",
    "playing = input(\"Do you want to play? (Type Yes to play) \")\n",
    "\n",
    "if playing.lower() != \"yes\":\n",
    "    quit()\n",
    "\n",
    "print(\"Okay! Let's play :) \")\n",
    "score = 0\n",
    "\n",
    "answer = input(\"Which is the highest peak in India? \")\n",
    "if answer.lower() == \"mount everest\" or answer.lower() == \"everest\":\n",
    "    print(\"Correct! \")\n",
    "    score+= 1\n",
    "else:\n",
    "    print(\"Incorrect!\")\n",
    "    \n",
    "\n",
    "answer = input(\" Which is the World’s longest River? \")\n",
    "if answer.lower() == \"nile\":\n",
    "    print(\"Correct! \")\n",
    "    score+= 1\n",
    "else:\n",
    "    print(\"Incorrect!\")\n",
    "\n",
    "answer = input(\"Which is the continent with the most number of countries? \")\n",
    "if answer.lower() == \"africa\":\n",
    "    print(\"Correct! \")\n",
    "    score+= 1\n",
    "else:\n",
    "    print(\"Incorrect!\")\n",
    "    \n",
    "answer = input(\"Which is the first element on the periodic table of elements? \")\n",
    "if answer.lower() == \"hydrogen\":\n",
    "    print(\"Correct! \")\n",
    "    score+= 1\n",
    "else:\n",
    "    print(\"Incorrect!\")\n",
    "    \n",
    "answer = input(\"Which is the national fruit of India? \")\n",
    "if answer.lower() == \"mango\":\n",
    "    print(\"Correct! \")\n",
    "    score+= 1\n",
    "else:\n",
    "    print(\"Incorrect!\")\n",
    "    \n",
    "answer = input(\"Which is the nearest star to the earth?  \")\n",
    "if answer.lower() == \"sun\":\n",
    "    print(\"Correct! \")\n",
    "    score+= 1\n",
    "else:\n",
    "    print(\"Incorrect!\")\n",
    "    \n",
    "print(\"You got \" +str(score) + \" questions correct! \")\n",
    "print(\"You got \" +str((score/6)*100) + \"%.\")\n",
    "\n",
    "if score >4:\n",
    "    print(\"\\U0001f600\")\n",
    "if score == 4:\n",
    "    print(\"\\U0001F914\")\n",
    "if score <4:\n",
    "    print(\"\\U0001F610\")\n",
    "\n"
   ]
  }
 ],
 "metadata": {
  "kernelspec": {
   "display_name": "Python 3 (ipykernel)",
   "language": "python",
   "name": "python3"
  },
  "language_info": {
   "codemirror_mode": {
    "name": "ipython",
    "version": 3
   },
   "file_extension": ".py",
   "mimetype": "text/x-python",
   "name": "python",
   "nbconvert_exporter": "python",
   "pygments_lexer": "ipython3",
   "version": "3.9.13"
  }
 },
 "nbformat": 4,
 "nbformat_minor": 5
}
